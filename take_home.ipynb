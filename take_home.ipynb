{
  "nbformat": 4,
  "nbformat_minor": 0,
  "metadata": {
    "colab": {
      "provenance": []
    },
    "kernelspec": {
      "name": "python3",
      "display_name": "Python 3"
    },
    "language_info": {
      "name": "python"
    }
  },
  "cells": [
    {
      "cell_type": "code",
      "source": [
        "import torch\n",
        "import torch.nn as nn\n",
        "import torch.optim as optim"
      ],
      "metadata": {
        "id": "SXhQfASgPClj"
      },
      "execution_count": null,
      "outputs": []
    },
    {
      "cell_type": "code",
      "source": [
        "class LearnablePositionalEncoding(nn.Module):\n",
        "    def __init__(self, sequence_length, feature_size):\n",
        "        super().__init__()\n",
        "        self.positional_encodings = nn.Parameter(torch.rand((sequence_length, feature_size)))\n",
        "\n",
        "    def forward(self, x):\n",
        "        return x + self.positional_encodings\n"
      ],
      "metadata": {
        "id": "OkvW3QYwPspt"
      },
      "execution_count": null,
      "outputs": []
    },
    {
      "cell_type": "code",
      "source": [
        "class MyModel(nn.Module):\n",
        "    def __init__(self, sequence_length, feature_size):\n",
        "        super(MyModel, self).__init__()\n",
        "        self.positional_encoding_layer = LearnablePositionalEncoding(sequence_length, feature_size)\n",
        "        # Add more layers as per your model's requirement\n",
        "\n",
        "    def forward(self, x):\n",
        "        x = self.positional_encoding_layer(x)\n",
        "        # Implement the forward pass for the rest of your model\n",
        "        return x\n"
      ],
      "metadata": {
        "id": "Il24VhsMPwFF"
      },
      "execution_count": null,
      "outputs": []
    },
    {
      "cell_type": "code",
      "source": [
        "# Creating a dummy dataset\n",
        "sequence_length = 50\n",
        "batch_size = 32\n",
        "feature_size = 128  # Size of each token/element in the sequence\n",
        "\n",
        "dummy_dataset = torch.rand((batch_size, sequence_length, feature_size))\n",
        "dummy_dataset"
      ],
      "metadata": {
        "id": "iHK_F5vfPxE_"
      },
      "execution_count": null,
      "outputs": []
    },
    {
      "cell_type": "code",
      "source": [
        "# Initialize the model\n",
        "model = MyModel(sequence_length, feature_size)\n",
        "\n",
        "# Define a simple loss function and optimizer\n",
        "loss_fn = nn.MSELoss()\n",
        "optimizer = optim.Adam(model.parameters())\n"
      ],
      "metadata": {
        "id": "Vp6SPmPcP0ky"
      },
      "execution_count": null,
      "outputs": []
    },
    {
      "cell_type": "code",
      "source": [
        "# Define the number of epochs for training\n",
        "num_epochs = 10  # Adjust this based on your needs\n",
        "\n",
        "# A simplified training loop\n",
        "for epoch in range(num_epochs):\n",
        "    for batch in dummy_dataset:\n",
        "        optimizer.zero_grad()  # Clearing the gradients\n",
        "        predictions = model(batch)\n",
        "        loss = loss_fn(predictions, batch)  # Calculating loss\n",
        "        loss.backward()  # Backpropagation\n",
        "        optimizer.step()  # Updating the parameters\n",
        "\n",
        "    # Print loss every epoch (optional)\n",
        "    print(f\"Epoch {epoch+1}/{num_epochs}, Loss: {loss.item()}\")\n"
      ],
      "metadata": {
        "colab": {
          "base_uri": "https://localhost:8080/"
        },
        "id": "Ds9mia0LQSES",
        "outputId": "4b72b49a-becd-4a52-d3c3-88c9e101cf84"
      },
      "execution_count": null,
      "outputs": [
        {
          "output_type": "stream",
          "name": "stdout",
          "text": [
            "Epoch 1/10, Loss: 0.29840606451034546\n",
            "Epoch 2/10, Loss: 0.270356684923172\n",
            "Epoch 3/10, Loss: 0.2448042333126068\n",
            "Epoch 4/10, Loss: 0.2215217649936676\n",
            "Epoch 5/10, Loss: 0.20030063390731812\n",
            "Epoch 6/10, Loss: 0.18095746636390686\n",
            "Epoch 7/10, Loss: 0.16332904994487762\n",
            "Epoch 8/10, Loss: 0.14726881682872772\n",
            "Epoch 9/10, Loss: 0.13264432549476624\n",
            "Epoch 10/10, Loss: 0.11933545768260956\n"
          ]
        }
      ]
    }
  ]
}